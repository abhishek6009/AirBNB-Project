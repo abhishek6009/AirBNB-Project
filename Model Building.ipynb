{
 "cells": [
  {
   "cell_type": "code",
   "execution_count": 1,
   "id": "0314beb7-8a84-4e2e-8321-33aff430b442",
   "metadata": {},
   "outputs": [],
   "source": [
    "import pandas as pd\n",
    "import numpy as np"
   ]
  },
  {
   "cell_type": "code",
   "execution_count": 2,
   "id": "ed3112a0-a92f-4fcd-9467-e3cc0e6d7c5c",
   "metadata": {},
   "outputs": [
    {
     "data": {
      "text/html": [
       "<div>\n",
       "<style scoped>\n",
       "    .dataframe tbody tr th:only-of-type {\n",
       "        vertical-align: middle;\n",
       "    }\n",
       "\n",
       "    .dataframe tbody tr th {\n",
       "        vertical-align: top;\n",
       "    }\n",
       "\n",
       "    .dataframe thead th {\n",
       "        text-align: right;\n",
       "    }\n",
       "</style>\n",
       "<table border=\"1\" class=\"dataframe\">\n",
       "  <thead>\n",
       "    <tr style=\"text-align: right;\">\n",
       "      <th></th>\n",
       "      <th>listing_id</th>\n",
       "      <th>latitude</th>\n",
       "      <th>longitude</th>\n",
       "      <th>accomodates</th>\n",
       "      <th>bedrooms</th>\n",
       "      <th>beds</th>\n",
       "      <th>host_since</th>\n",
       "      <th>date</th>\n",
       "      <th>available</th>\n",
       "      <th>price</th>\n",
       "      <th>...</th>\n",
       "      <th>\"nvt body soap\"</th>\n",
       "      <th>\"Electrolux induction stove\"</th>\n",
       "      <th>\"Qumi Bluetooth sound system\"</th>\n",
       "      <th>\"Private patio or balcony\"</th>\n",
       "      <th>\"Private entrance\"</th>\n",
       "      <th>\"Extra pillows and blankets\"</th>\n",
       "      <th>\"Smeg  gas stove\"</th>\n",
       "      <th>\"Whirlpool oven\"</th>\n",
       "      <th>\"Carbon monoxide alarm\"</th>\n",
       "      <th>HBO Max</th>\n",
       "    </tr>\n",
       "  </thead>\n",
       "  <tbody>\n",
       "    <tr>\n",
       "      <th>0</th>\n",
       "      <td>40334325</td>\n",
       "      <td>51.209890</td>\n",
       "      <td>4.422980</td>\n",
       "      <td>2</td>\n",
       "      <td>1.0</td>\n",
       "      <td>2.0</td>\n",
       "      <td>1574467200</td>\n",
       "      <td>1659484800</td>\n",
       "      <td>0</td>\n",
       "      <td>56.0</td>\n",
       "      <td>...</td>\n",
       "      <td>0</td>\n",
       "      <td>0</td>\n",
       "      <td>0</td>\n",
       "      <td>0</td>\n",
       "      <td>0</td>\n",
       "      <td>0</td>\n",
       "      <td>0</td>\n",
       "      <td>0</td>\n",
       "      <td>0</td>\n",
       "      <td>0</td>\n",
       "    </tr>\n",
       "    <tr>\n",
       "      <th>1</th>\n",
       "      <td>22742449</td>\n",
       "      <td>51.219050</td>\n",
       "      <td>4.422920</td>\n",
       "      <td>4</td>\n",
       "      <td>2.0</td>\n",
       "      <td>2.0</td>\n",
       "      <td>1484092800</td>\n",
       "      <td>1668297600</td>\n",
       "      <td>1</td>\n",
       "      <td>95.0</td>\n",
       "      <td>...</td>\n",
       "      <td>0</td>\n",
       "      <td>0</td>\n",
       "      <td>0</td>\n",
       "      <td>0</td>\n",
       "      <td>0</td>\n",
       "      <td>0</td>\n",
       "      <td>0</td>\n",
       "      <td>0</td>\n",
       "      <td>0</td>\n",
       "      <td>0</td>\n",
       "    </tr>\n",
       "    <tr>\n",
       "      <th>2</th>\n",
       "      <td>34621717</td>\n",
       "      <td>51.198930</td>\n",
       "      <td>4.402690</td>\n",
       "      <td>2</td>\n",
       "      <td>1.0</td>\n",
       "      <td>1.0</td>\n",
       "      <td>1415491200</td>\n",
       "      <td>1650153600</td>\n",
       "      <td>0</td>\n",
       "      <td>75.0</td>\n",
       "      <td>...</td>\n",
       "      <td>0</td>\n",
       "      <td>0</td>\n",
       "      <td>0</td>\n",
       "      <td>0</td>\n",
       "      <td>0</td>\n",
       "      <td>0</td>\n",
       "      <td>0</td>\n",
       "      <td>0</td>\n",
       "      <td>0</td>\n",
       "      <td>0</td>\n",
       "    </tr>\n",
       "    <tr>\n",
       "      <th>3</th>\n",
       "      <td>38281744</td>\n",
       "      <td>51.219448</td>\n",
       "      <td>4.402464</td>\n",
       "      <td>2</td>\n",
       "      <td>1.0</td>\n",
       "      <td>1.0</td>\n",
       "      <td>1442361600</td>\n",
       "      <td>1643587200</td>\n",
       "      <td>1</td>\n",
       "      <td>150.0</td>\n",
       "      <td>...</td>\n",
       "      <td>0</td>\n",
       "      <td>0</td>\n",
       "      <td>0</td>\n",
       "      <td>0</td>\n",
       "      <td>0</td>\n",
       "      <td>0</td>\n",
       "      <td>0</td>\n",
       "      <td>0</td>\n",
       "      <td>0</td>\n",
       "      <td>0</td>\n",
       "    </tr>\n",
       "    <tr>\n",
       "      <th>4</th>\n",
       "      <td>18835003</td>\n",
       "      <td>51.213280</td>\n",
       "      <td>4.394940</td>\n",
       "      <td>2</td>\n",
       "      <td>1.0</td>\n",
       "      <td>1.0</td>\n",
       "      <td>1495238400</td>\n",
       "      <td>1653091200</td>\n",
       "      <td>0</td>\n",
       "      <td>100.0</td>\n",
       "      <td>...</td>\n",
       "      <td>0</td>\n",
       "      <td>0</td>\n",
       "      <td>0</td>\n",
       "      <td>0</td>\n",
       "      <td>0</td>\n",
       "      <td>0</td>\n",
       "      <td>0</td>\n",
       "      <td>0</td>\n",
       "      <td>0</td>\n",
       "      <td>0</td>\n",
       "    </tr>\n",
       "  </tbody>\n",
       "</table>\n",
       "<p>5 rows × 592 columns</p>\n",
       "</div>"
      ],
      "text/plain": [
       "   listing_id   latitude  longitude  accomodates  bedrooms  beds  host_since  \\\n",
       "0    40334325  51.209890   4.422980            2       1.0   2.0  1574467200   \n",
       "1    22742449  51.219050   4.422920            4       2.0   2.0  1484092800   \n",
       "2    34621717  51.198930   4.402690            2       1.0   1.0  1415491200   \n",
       "3    38281744  51.219448   4.402464            2       1.0   1.0  1442361600   \n",
       "4    18835003  51.213280   4.394940            2       1.0   1.0  1495238400   \n",
       "\n",
       "         date  available  price  ...   \"nvt body soap\"  \\\n",
       "0  1659484800          0   56.0  ...                 0   \n",
       "1  1668297600          1   95.0  ...                 0   \n",
       "2  1650153600          0   75.0  ...                 0   \n",
       "3  1643587200          1  150.0  ...                 0   \n",
       "4  1653091200          0  100.0  ...                 0   \n",
       "\n",
       "    \"Electrolux induction stove\"   \"Qumi Bluetooth sound system\"  \\\n",
       "0                              0                               0   \n",
       "1                              0                               0   \n",
       "2                              0                               0   \n",
       "3                              0                               0   \n",
       "4                              0                               0   \n",
       "\n",
       "   \"Private patio or balcony\"   \"Private entrance\"  \\\n",
       "0                           0                    0   \n",
       "1                           0                    0   \n",
       "2                           0                    0   \n",
       "3                           0                    0   \n",
       "4                           0                    0   \n",
       "\n",
       "    \"Extra pillows and blankets\"   \"Smeg  gas stove\"   \"Whirlpool oven\"  \\\n",
       "0                              0                   0                  0   \n",
       "1                              0                   0                  0   \n",
       "2                              0                   0                  0   \n",
       "3                              0                   0                  0   \n",
       "4                              0                   0                  0   \n",
       "\n",
       "    \"Carbon monoxide alarm\"   HBO Max  \n",
       "0                         0         0  \n",
       "1                         0         0  \n",
       "2                         0         0  \n",
       "3                         0         0  \n",
       "4                         0         0  \n",
       "\n",
       "[5 rows x 592 columns]"
      ]
     },
     "execution_count": 2,
     "metadata": {},
     "output_type": "execute_result"
    }
   ],
   "source": [
    "data = pd.read_csv(\"preprocessed.csv\")\n",
    "data.head()"
   ]
  },
  {
   "cell_type": "code",
   "execution_count": 3,
   "id": "4a5c9e0e-fc1f-4a0a-8f8b-2783abf9569d",
   "metadata": {},
   "outputs": [
    {
     "name": "stdout",
     "output_type": "stream",
     "text": [
      "<class 'pandas.core.frame.DataFrame'>\n",
      "RangeIndex: 319192 entries, 0 to 319191\n",
      "Columns: 592 entries, listing_id to  HBO Max\n",
      "dtypes: float64(6), int64(586)\n",
      "memory usage: 1.4 GB\n"
     ]
    }
   ],
   "source": [
    "data.info()"
   ]
  },
  {
   "cell_type": "code",
   "execution_count": 4,
   "id": "28665358-af34-4bfd-8727-6d4684a20020",
   "metadata": {},
   "outputs": [],
   "source": [
    "X = data.drop('price',axis=1)\n",
    "y = data[['price']]"
   ]
  },
  {
   "cell_type": "markdown",
   "id": "7900f5b3-f588-487e-ba4a-fdc28b9ebfb8",
   "metadata": {},
   "source": [
    "Let's compare the R2 score and mean squared error when we include the amenities columns, and the same scores when these columns are excluded. There are more than 500 amenity columns, so it would siginificantly reduce complexity if these columns can be removed due to not being significant contributors to the model."
   ]
  },
  {
   "cell_type": "code",
   "execution_count": 5,
   "id": "2b316036-5d63-433f-b2d0-c076552e8901",
   "metadata": {},
   "outputs": [],
   "source": [
    "from sklearn.model_selection import train_test_split\n",
    "X_train, X_test, y_train, y_test = train_test_split(X,y,test_size=0.2,random_state=42) #data with all columns"
   ]
  },
  {
   "cell_type": "code",
   "execution_count": 6,
   "id": "49552a85-d3c7-4083-922e-ec4910f60e96",
   "metadata": {},
   "outputs": [
    {
     "data": {
      "text/plain": [
       "LinearRegression()"
      ]
     },
     "execution_count": 6,
     "metadata": {},
     "output_type": "execute_result"
    }
   ],
   "source": [
    "from sklearn.linear_model import LinearRegression\n",
    "linreg = LinearRegression()\n",
    "linreg.fit(X_train, y_train)"
   ]
  },
  {
   "cell_type": "code",
   "execution_count": 7,
   "id": "497d8ca4-8437-4b90-91a8-5f42f3c57796",
   "metadata": {},
   "outputs": [
    {
     "name": "stdout",
     "output_type": "stream",
     "text": [
      "0.2295801953474722\n",
      "165.88911074557882\n"
     ]
    }
   ],
   "source": [
    "from sklearn.metrics import r2_score, mean_squared_error\n",
    "print(r2_score(y_test, linreg.predict(X_test)))\n",
    "print(np.sqrt(mean_squared_error(y_test, linreg.predict(X_test)))) #RMSE"
   ]
  },
  {
   "cell_type": "code",
   "execution_count": 8,
   "id": "b93a344d-3095-4fe1-9d19-ef918690ce55",
   "metadata": {},
   "outputs": [],
   "source": [
    "X_train, X_test, y_Train, y_test = train_test_split(X.iloc[:,:54], y, test_size=0.2, random_state=42) #data with amenity columns removed"
   ]
  },
  {
   "cell_type": "code",
   "execution_count": 9,
   "id": "1760ad86-ab89-435e-aff0-477031d937e4",
   "metadata": {},
   "outputs": [
    {
     "data": {
      "text/plain": [
       "LinearRegression()"
      ]
     },
     "execution_count": 9,
     "metadata": {},
     "output_type": "execute_result"
    }
   ],
   "source": [
    "linreg2 = LinearRegression()\n",
    "linreg2.fit(X_train, y_train)"
   ]
  },
  {
   "cell_type": "code",
   "execution_count": 10,
   "id": "e87a2b5f-486e-4c53-a597-791d36a1639f",
   "metadata": {},
   "outputs": [
    {
     "name": "stdout",
     "output_type": "stream",
     "text": [
      "0.22958019483555792\n",
      "165.88911080069227\n"
     ]
    }
   ],
   "source": [
    "print(r2_score(y_test, linreg2.predict(X_test)))\n",
    "print(np.sqrt(mean_squared_error(y_test, linreg2.predict(X_test))))"
   ]
  },
  {
   "cell_type": "markdown",
   "id": "f32e5f38-fb2a-4559-a514-24dabb2fc184",
   "metadata": {},
   "source": [
    "These two linear regression models show that the additional columns added by amenities really don't offer much value - the two metrics are near identical with or without all those extra columns. Let us still test a few more models before removing them."
   ]
  },
  {
   "cell_type": "code",
   "execution_count": 11,
   "id": "945b6155-15b5-49bd-bb03-8ae0a9e0b3c6",
   "metadata": {},
   "outputs": [],
   "source": [
    "X_train, X_test, y_train, y_test = train_test_split(X,y,test_size=0.2,random_state=42)"
   ]
  },
  {
   "cell_type": "code",
   "execution_count": 12,
   "id": "c4d64ad7-3ec7-4c99-abad-cf258b968324",
   "metadata": {},
   "outputs": [
    {
     "data": {
      "text/plain": [
       "DecisionTreeRegressor()"
      ]
     },
     "execution_count": 12,
     "metadata": {},
     "output_type": "execute_result"
    }
   ],
   "source": [
    "from sklearn.tree import DecisionTreeRegressor\n",
    "dtr = DecisionTreeRegressor()\n",
    "dtr.fit(X_train, y_train)"
   ]
  },
  {
   "cell_type": "code",
   "execution_count": 13,
   "id": "dade3ed9-5dae-4b88-ba12-bf5b40971c37",
   "metadata": {},
   "outputs": [
    {
     "name": "stdout",
     "output_type": "stream",
     "text": [
      "0.9868624115709951\n",
      "21.662670107332985\n"
     ]
    }
   ],
   "source": [
    "print(r2_score(y_test, dtr.predict(X_test)))\n",
    "print(np.sqrt(mean_squared_error(y_test, dtr.predict(X_test))))"
   ]
  },
  {
   "cell_type": "code",
   "execution_count": 14,
   "id": "46e4040d-ff86-4491-823d-141dc6ff88ad",
   "metadata": {},
   "outputs": [],
   "source": [
    "X_train, X_test, y_Train, y_test = train_test_split(X.iloc[:,:54], y, test_size=0.2, random_state=42)"
   ]
  },
  {
   "cell_type": "code",
   "execution_count": 15,
   "id": "87b49960-23ea-4fd9-975f-4290aaf88356",
   "metadata": {},
   "outputs": [],
   "source": [
    "dtr2 = DecisionTreeRegressor().fit(X_train,y_train)"
   ]
  },
  {
   "cell_type": "code",
   "execution_count": 16,
   "id": "8f9f99f4-9f9a-4418-aec7-3148e0a2e871",
   "metadata": {},
   "outputs": [
    {
     "name": "stdout",
     "output_type": "stream",
     "text": [
      "0.9870219853035858\n",
      "21.530706991087936\n"
     ]
    }
   ],
   "source": [
    "print(r2_score(y_test, dtr2.predict(X_test)))\n",
    "print(np.sqrt(mean_squared_error(y_test, dtr2.predict(X_test))))"
   ]
  },
  {
   "cell_type": "markdown",
   "id": "0258a98a-6aa5-442f-bcf4-4496399ba8d4",
   "metadata": {},
   "source": [
    "Decision Tree is offering much better scores, though that might be due to overfitting. There's also a slight degradation in both scores when taking out the amenities columns, though it's not very major. It would certainly make more sense to decrease the complexity of the data and make a small sacrifice in the scoring. Let us look at one final model to see if it's worth keeping the additional columns"
   ]
  },
  {
   "cell_type": "code",
   "execution_count": 17,
   "id": "7a32b28e-6aa4-4ee2-b4d7-b82482955d49",
   "metadata": {},
   "outputs": [],
   "source": [
    "from sklearn.ensemble import RandomForestRegressor\n",
    "rfr = RandomForestRegressor(n_estimators=50)"
   ]
  },
  {
   "cell_type": "code",
   "execution_count": 18,
   "id": "3d7bb7ee-a4c1-491d-9085-c89374a1f45c",
   "metadata": {},
   "outputs": [],
   "source": [
    "X_train, X_test, y_train, y_test = train_test_split(X,y,test_size=0.2,random_state=42)"
   ]
  },
  {
   "cell_type": "code",
   "execution_count": 19,
   "id": "86cd709a-5b78-47a4-a638-af5b2f356d1d",
   "metadata": {},
   "outputs": [
    {
     "name": "stderr",
     "output_type": "stream",
     "text": [
      "<ipython-input-19-e1b1f0422edb>:1: DataConversionWarning: A column-vector y was passed when a 1d array was expected. Please change the shape of y to (n_samples,), for example using ravel().\n",
      "  rfr.fit(X_train, y_train)\n"
     ]
    },
    {
     "data": {
      "text/plain": [
       "RandomForestRegressor(n_estimators=50)"
      ]
     },
     "execution_count": 19,
     "metadata": {},
     "output_type": "execute_result"
    }
   ],
   "source": [
    "rfr.fit(X_train, y_train)"
   ]
  },
  {
   "cell_type": "code",
   "execution_count": 20,
   "id": "bec89608-0f86-4532-915a-6a9e0eabccd3",
   "metadata": {},
   "outputs": [
    {
     "name": "stdout",
     "output_type": "stream",
     "text": [
      "0.9899947759340586\n",
      "18.904603344508832\n"
     ]
    }
   ],
   "source": [
    "print(r2_score(y_test, rfr.predict(X_test)))\n",
    "print(np.sqrt(mean_squared_error(y_test, rfr.predict(X_test))))"
   ]
  },
  {
   "cell_type": "code",
   "execution_count": 21,
   "id": "8204384a-6ef5-42ff-a28b-f0ff7afe8773",
   "metadata": {},
   "outputs": [],
   "source": [
    "X_train, X_test, y_Train, y_test = train_test_split(X.iloc[:,:54], y, test_size=0.2, random_state=42)"
   ]
  },
  {
   "cell_type": "code",
   "execution_count": 22,
   "id": "2e22a4fa-3ac4-4369-8dcc-673fc227e374",
   "metadata": {},
   "outputs": [
    {
     "name": "stderr",
     "output_type": "stream",
     "text": [
      "<ipython-input-22-74b7151a5300>:1: DataConversionWarning: A column-vector y was passed when a 1d array was expected. Please change the shape of y to (n_samples,), for example using ravel().\n",
      "  rfr2 = RandomForestRegressor(n_estimators=50).fit(X_train, y_train)\n"
     ]
    }
   ],
   "source": [
    "rfr2 = RandomForestRegressor(n_estimators=50).fit(X_train, y_train)"
   ]
  },
  {
   "cell_type": "code",
   "execution_count": 23,
   "id": "56215a67-a91d-4570-aea9-c761897565ff",
   "metadata": {},
   "outputs": [
    {
     "name": "stdout",
     "output_type": "stream",
     "text": [
      "0.9903623735679983\n",
      "18.554070571532662\n"
     ]
    }
   ],
   "source": [
    "print(r2_score(y_test, rfr2.predict(X_test)))\n",
    "print(np.sqrt(mean_squared_error(y_test, rfr2.predict(X_test))))"
   ]
  },
  {
   "cell_type": "markdown",
   "id": "c0e67df0-6bf7-4ce2-900e-cf99db1309d1",
   "metadata": {},
   "source": [
    "Once again, we see that the two datasets do not have much difference in scoring with the same model. Let us drop the excess complexity presented by the amenities columns. This leaves us with 54 columns."
   ]
  },
  {
   "cell_type": "code",
   "execution_count": 24,
   "id": "12a7070c-1758-4f86-b332-4c3548a2cdb7",
   "metadata": {},
   "outputs": [],
   "source": [
    "new_X = X.iloc[:,:53]"
   ]
  },
  {
   "cell_type": "code",
   "execution_count": 41,
   "id": "8f6abef7-0d29-4f0b-9abf-eaeeb02fceff",
   "metadata": {},
   "outputs": [],
   "source": [
    "new_data = new_X.copy()\n",
    "new_data['price']=y\n",
    "new_data.to_csv(\"final_data.csv\",index=False)"
   ]
  },
  {
   "cell_type": "markdown",
   "id": "868996db-fe3f-4a43-9911-8ac67e9e0eea",
   "metadata": {},
   "source": [
    "**We now have our final data for model building. This has been saved as a csv file, called 'final_data.csv' . All further models will be based on this data, which has 54 columns and 319192 rows.**"
   ]
  },
  {
   "cell_type": "markdown",
   "id": "4c994374-23da-431b-b639-5a01be660ee3",
   "metadata": {},
   "source": [
    "# Start here to compare some models on cut-down dataset"
   ]
  },
  {
   "cell_type": "code",
   "execution_count": 1,
   "id": "fb087949-dfc4-408c-9e29-020a0f5b92da",
   "metadata": {},
   "outputs": [],
   "source": [
    "import pandas as pd\n",
    "import numpy as np"
   ]
  },
  {
   "cell_type": "code",
   "execution_count": 2,
   "id": "ec654733-3d22-44d3-8b4c-59b2ae38a5ba",
   "metadata": {},
   "outputs": [],
   "source": [
    "data = pd.read_csv(\"final_data.csv\")\n",
    "X = data.drop(\"price\",axis=1)\n",
    "y = data[['price']]"
   ]
  },
  {
   "cell_type": "code",
   "execution_count": 24,
   "id": "ea1c3367-1b60-457d-8a9c-2197b9eda5a6",
   "metadata": {},
   "outputs": [
    {
     "name": "stdout",
     "output_type": "stream",
     "text": [
      "<class 'pandas.core.frame.DataFrame'>\n",
      "RangeIndex: 319192 entries, 0 to 319191\n",
      "Data columns (total 54 columns):\n",
      " #   Column                                             Non-Null Count   Dtype  \n",
      "---  ------                                             --------------   -----  \n",
      " 0   listing_id                                         319192 non-null  int64  \n",
      " 1   latitude                                           319192 non-null  float64\n",
      " 2   longitude                                          319192 non-null  float64\n",
      " 3   accomodates                                        319192 non-null  int64  \n",
      " 4   bedrooms                                           319192 non-null  float64\n",
      " 5   beds                                               319192 non-null  float64\n",
      " 6   host_since                                         319192 non-null  int64  \n",
      " 7   date                                               319192 non-null  int64  \n",
      " 8   available                                          319192 non-null  int64  \n",
      " 9   minimum_nights                                     319192 non-null  int64  \n",
      " 10  maximum_nights                                     319192 non-null  int64  \n",
      " 11  bathrooms                                          319192 non-null  float64\n",
      " 12  property_type_Casa particular                      319192 non-null  int64  \n",
      " 13  property_type_Castle                               319192 non-null  int64  \n",
      " 14  property_type_Entire condominium (condo)           319192 non-null  int64  \n",
      " 15  property_type_Entire cottage                       319192 non-null  int64  \n",
      " 16  property_type_Entire guest suite                   319192 non-null  int64  \n",
      " 17  property_type_Entire guesthouse                    319192 non-null  int64  \n",
      " 18  property_type_Entire loft                          319192 non-null  int64  \n",
      " 19  property_type_Entire rental unit                   319192 non-null  int64  \n",
      " 20  property_type_Entire residential home              319192 non-null  int64  \n",
      " 21  property_type_Entire serviced apartment            319192 non-null  int64  \n",
      " 22  property_type_Entire townhouse                     319192 non-null  int64  \n",
      " 23  property_type_Entire vacation home                 319192 non-null  int64  \n",
      " 24  property_type_Entire villa                         319192 non-null  int64  \n",
      " 25  property_type_Houseboat                            319192 non-null  int64  \n",
      " 26  property_type_Private room                         319192 non-null  int64  \n",
      " 27  property_type_Private room in bed and breakfast    319192 non-null  int64  \n",
      " 28  property_type_Private room in boat                 319192 non-null  int64  \n",
      " 29  property_type_Private room in casa particular      319192 non-null  int64  \n",
      " 30  property_type_Private room in condominium (condo)  319192 non-null  int64  \n",
      " 31  property_type_Private room in guest suite          319192 non-null  int64  \n",
      " 32  property_type_Private room in guesthouse           319192 non-null  int64  \n",
      " 33  property_type_Private room in loft                 319192 non-null  int64  \n",
      " 34  property_type_Private room in religious building   319192 non-null  int64  \n",
      " 35  property_type_Private room in rental unit          319192 non-null  int64  \n",
      " 36  property_type_Private room in residential home     319192 non-null  int64  \n",
      " 37  property_type_Private room in serviced apartment   319192 non-null  int64  \n",
      " 38  property_type_Private room in townhouse            319192 non-null  int64  \n",
      " 39  property_type_Private room in villa                319192 non-null  int64  \n",
      " 40  property_type_Room in aparthotel                   319192 non-null  int64  \n",
      " 41  property_type_Room in boutique hotel               319192 non-null  int64  \n",
      " 42  property_type_Room in hotel                        319192 non-null  int64  \n",
      " 43  property_type_Shared room in bed and breakfast     319192 non-null  int64  \n",
      " 44  property_type_Shared room in casa particular       319192 non-null  int64  \n",
      " 45  property_type_Shared room in loft                  319192 non-null  int64  \n",
      " 46  property_type_Shared room in residential home      319192 non-null  int64  \n",
      " 47  property_type_Tent                                 319192 non-null  int64  \n",
      " 48  property_type_Tiny house                           319192 non-null  int64  \n",
      " 49  property_type_Yurt                                 319192 non-null  int64  \n",
      " 50  room_type_Hotel room                               319192 non-null  int64  \n",
      " 51  room_type_Private room                             319192 non-null  int64  \n",
      " 52  room_type_Shared room                              319192 non-null  int64  \n",
      " 53  price                                              319192 non-null  float64\n",
      "dtypes: float64(6), int64(48)\n",
      "memory usage: 131.5 MB\n"
     ]
    }
   ],
   "source": [
    "data.info()"
   ]
  },
  {
   "cell_type": "code",
   "execution_count": 3,
   "id": "435002cd-9065-4547-9974-357187d8734c",
   "metadata": {},
   "outputs": [],
   "source": [
    "from sklearn.model_selection import train_test_split\n",
    "X_train, X_test, y_train, y_test = train_test_split(X,y,test_size=0.2) #80% training data, 20% test data.\n",
    "#There may be some variability in reported and observed scores due to not using random_state in this step. "
   ]
  },
  {
   "cell_type": "code",
   "execution_count": 4,
   "id": "020a1798-eef6-4669-b58e-8978bd06b237",
   "metadata": {},
   "outputs": [
    {
     "name": "stdout",
     "output_type": "stream",
     "text": [
      "0.2241974570455354\n",
      "149.82455115019638\n"
     ]
    }
   ],
   "source": [
    "from sklearn.linear_model import LinearRegression\n",
    "from sklearn.metrics import mean_squared_error\n",
    "linreg = LinearRegression().fit(X_train,y_train)\n",
    "print(linreg.score(X_test,y_test))\n",
    "print(mean_squared_error(y_test, linreg.predict(X_test), squared=False))"
   ]
  },
  {
   "cell_type": "markdown",
   "id": "116ae85d-d9fe-4fff-aff8-581e2b7dd9d7",
   "metadata": {},
   "source": [
    "Linear Regression does not seem to be a good enough model for this dataset. We observe an $R^2$ score of only 22.42%, with an RMSE of $149.42, which is not a great score."
   ]
  },
  {
   "cell_type": "code",
   "execution_count": 5,
   "id": "5829023c-a3ff-4146-83f3-0958a76139b7",
   "metadata": {},
   "outputs": [
    {
     "name": "stdout",
     "output_type": "stream",
     "text": [
      "0.98642666917453\n",
      "19.81757922585165\n"
     ]
    }
   ],
   "source": [
    "from sklearn.tree import DecisionTreeRegressor\n",
    "dtr = DecisionTreeRegressor(random_state=42).fit(X_train, y_train)\n",
    "print(dtr.score(X_test,y_test))\n",
    "print(mean_squared_error(y_test, dtr.predict(X_test), squared=False))"
   ]
  },
  {
   "cell_type": "markdown",
   "id": "c3ac4080-4ebb-4c0a-b333-713b8117b184",
   "metadata": {},
   "source": [
    "Decision Tree Regressor immediately shows a massive improvement over Linear Regression, with an $R^2$ score of 98.64% and RMSE of $19.82"
   ]
  },
  {
   "cell_type": "code",
   "execution_count": 6,
   "id": "72641228-1910-4361-8369-3c7b934b5e7f",
   "metadata": {},
   "outputs": [
    {
     "name": "stdout",
     "output_type": "stream",
     "text": [
      "0.9580580100381929\n",
      "34.836290371280626\n"
     ]
    }
   ],
   "source": [
    "dtr2 = DecisionTreeRegressor(max_depth=15, max_features='sqrt',random_state=42).fit(X_train, y_train)\n",
    "print(dtr2.score(X_test,y_test))\n",
    "print(mean_squared_error(y_test, dtr2.predict(X_test), squared=False))"
   ]
  },
  {
   "cell_type": "markdown",
   "id": "70081d30-e46b-40ee-a1e1-2020b3742e46",
   "metadata": {},
   "source": [
    "With some parameter tuning to reduce overfitting, we still see an $R^2$ score of 95.81% and an RMSE of $34.84 with Decision Tree Regressor."
   ]
  },
  {
   "cell_type": "code",
   "execution_count": 7,
   "id": "2a5f7941-2cf3-487b-bd82-299f6f896b9a",
   "metadata": {},
   "outputs": [
    {
     "name": "stdout",
     "output_type": "stream",
     "text": [
      "0.9890407420012256\n",
      "17.807295329092803\n"
     ]
    }
   ],
   "source": [
    "from sklearn.ensemble import RandomForestRegressor\n",
    "rfr = RandomForestRegressor(n_estimators=200, n_jobs=-1).fit(X_train,y_train.values.ravel())\n",
    "print(rfr.score(X_test,y_test))\n",
    "print(mean_squared_error(y_test, rfr.predict(X_test), squared=False))"
   ]
  },
  {
   "cell_type": "markdown",
   "id": "e8221f49-9f34-4c0b-a9d0-9928a7466d0b",
   "metadata": {},
   "source": [
    "Random Forest Regressor further improves on the score of Decision Tree, with an $R^2$ score of 98.9% and RMSE $17.81. This is the best result we have obtained."
   ]
  },
  {
   "cell_type": "code",
   "execution_count": 8,
   "id": "77592e79-31ee-4e5b-8bf4-357183e3880a",
   "metadata": {},
   "outputs": [
    {
     "name": "stdout",
     "output_type": "stream",
     "text": [
      "0.972624169807614\n",
      "28.14433782185646\n"
     ]
    }
   ],
   "source": [
    "rfr2 = RandomForestRegressor(min_samples_split=100, n_jobs=-1, max_features='sqrt', max_samples=0.7).fit(X_train,y_train.values.ravel())\n",
    "print(rfr2.score(X_test,y_test))\n",
    "print(mean_squared_error(y_test, rfr2.predict(X_test), squared=False))"
   ]
  },
  {
   "cell_type": "markdown",
   "id": "6d170192-ff72-4a07-a7cb-ddc71d121152",
   "metadata": {},
   "source": [
    "To reduce overfitting, we do some hyperparameter tuning, and obtain an $R^2$ score of 97.26% and RMSE of $28.14 with Random Forest."
   ]
  },
  {
   "cell_type": "code",
   "execution_count": 9,
   "id": "a04d352f-0f12-4708-8807-54928db2af31",
   "metadata": {},
   "outputs": [
    {
     "name": "stdout",
     "output_type": "stream",
     "text": [
      "0.05446534109649981\n",
      "165.40403970594974\n"
     ]
    }
   ],
   "source": [
    "from sklearn.ensemble import AdaBoostRegressor\n",
    "ada = AdaBoostRegressor().fit(X_train,y_train.values.ravel())\n",
    "print(ada.score(X_test,y_test))\n",
    "print(mean_squared_error(y_test, ada.predict(X_test), squared=False))"
   ]
  },
  {
   "cell_type": "code",
   "execution_count": 10,
   "id": "4387a832-7b07-485c-9220-e848d1561da1",
   "metadata": {},
   "outputs": [
    {
     "name": "stdout",
     "output_type": "stream",
     "text": [
      "0.4684638069176431\n",
      "124.01488266252962\n"
     ]
    }
   ],
   "source": [
    "ada2 = AdaBoostRegressor(base_estimator=DecisionTreeRegressor(max_depth=5)).fit(X_train,y_train.values.ravel())\n",
    "print(ada2.score(X_test,y_test))\n",
    "print(mean_squared_error(y_test, ada2.predict(X_test),squared=False))"
   ]
  },
  {
   "cell_type": "markdown",
   "id": "7724936c-109e-4fb7-9030-82b1f6b3781c",
   "metadata": {},
   "source": [
    "Adaboost fails to give a good result on this dataset. The default parameters only manage an $R^2$ score of 5.45%, with an RMSE of $165.4. This score is worse than Linear Regression, with a much more complex and time-intensive model. "
   ]
  },
  {
   "cell_type": "code",
   "execution_count": 11,
   "id": "75bfa43a-afb5-41b6-bb42-905ca780ffc6",
   "metadata": {},
   "outputs": [
    {
     "name": "stderr",
     "output_type": "stream",
     "text": [
      "C:\\Users\\Abhishek\\anaconda3\\lib\\site-packages\\sklearn\\utils\\validation.py:63: DataConversionWarning: A column-vector y was passed when a 1d array was expected. Please change the shape of y to (n_samples, ), for example using ravel().\n",
      "  return f(*args, **kwargs)\n"
     ]
    },
    {
     "name": "stdout",
     "output_type": "stream",
     "text": [
      "0.791657006996321\n",
      "77.64202169374471\n"
     ]
    }
   ],
   "source": [
    "from sklearn.ensemble import GradientBoostingRegressor\n",
    "gbr = GradientBoostingRegressor().fit(X_train,y_train)\n",
    "print(gbr.score(X_test,y_test))\n",
    "print(mean_squared_error(y_test, gbr.predict(X_test), squared=False))"
   ]
  },
  {
   "cell_type": "markdown",
   "id": "ff66212c-15b5-427c-a022-76676cc27f54",
   "metadata": {},
   "source": [
    "GBM gives a decent $R^2$ score of 79.17% and RMSE of $77.64."
   ]
  },
  {
   "cell_type": "code",
   "execution_count": 15,
   "id": "8721e93e-3f6a-4b55-a59d-87e5509d0216",
   "metadata": {},
   "outputs": [
    {
     "name": "stdout",
     "output_type": "stream",
     "text": [
      "0.979996147759562\n",
      "24.058259491727803\n"
     ]
    }
   ],
   "source": [
    "import xgboost as xgb\n",
    "xgboost = xgb.XGBRegressor().fit(X_train,y_train.values.ravel())\n",
    "print(xgboost.score(X_test,y_test))\n",
    "print(mean_squared_error(y_test, xgboost.predict(X_test), squared=False))"
   ]
  },
  {
   "cell_type": "markdown",
   "id": "b695ebf6-78b4-45c9-abfd-b671b5f84f2f",
   "metadata": {},
   "source": [
    "XGBoost also gives a good $R^2$ score, 98%. The RMSE is $24.06."
   ]
  },
  {
   "cell_type": "markdown",
   "id": "1a0d22fc-4d39-4c25-9bd8-b03d1e446f71",
   "metadata": {},
   "source": [
    "#### Using the best model we have, random forest, let's find the top predictors in our model"
   ]
  },
  {
   "cell_type": "code",
   "execution_count": 18,
   "id": "f36f0a26-d5c4-4df9-baa6-7587a1ccd007",
   "metadata": {},
   "outputs": [],
   "source": [
    "importance_df = pd.DataFrame({'columns': X.columns, 'importance': rfr.feature_importances_})"
   ]
  },
  {
   "cell_type": "code",
   "execution_count": 23,
   "id": "a4dc46ad-3e52-4ffe-b2d6-56522b77b476",
   "metadata": {},
   "outputs": [
    {
     "data": {
      "text/html": [
       "<div>\n",
       "<style scoped>\n",
       "    .dataframe tbody tr th:only-of-type {\n",
       "        vertical-align: middle;\n",
       "    }\n",
       "\n",
       "    .dataframe tbody tr th {\n",
       "        vertical-align: top;\n",
       "    }\n",
       "\n",
       "    .dataframe thead th {\n",
       "        text-align: right;\n",
       "    }\n",
       "</style>\n",
       "<table border=\"1\" class=\"dataframe\">\n",
       "  <thead>\n",
       "    <tr style=\"text-align: right;\">\n",
       "      <th></th>\n",
       "      <th>columns</th>\n",
       "      <th>importance</th>\n",
       "    </tr>\n",
       "  </thead>\n",
       "  <tbody>\n",
       "    <tr>\n",
       "      <th>38</th>\n",
       "      <td>property_type_Private room in townhouse</td>\n",
       "      <td>0.276067</td>\n",
       "    </tr>\n",
       "    <tr>\n",
       "      <th>24</th>\n",
       "      <td>property_type_Entire villa</td>\n",
       "      <td>0.142162</td>\n",
       "    </tr>\n",
       "    <tr>\n",
       "      <th>3</th>\n",
       "      <td>accomodates</td>\n",
       "      <td>0.075672</td>\n",
       "    </tr>\n",
       "    <tr>\n",
       "      <th>11</th>\n",
       "      <td>bathrooms</td>\n",
       "      <td>0.068826</td>\n",
       "    </tr>\n",
       "    <tr>\n",
       "      <th>5</th>\n",
       "      <td>beds</td>\n",
       "      <td>0.065905</td>\n",
       "    </tr>\n",
       "  </tbody>\n",
       "</table>\n",
       "</div>"
      ],
      "text/plain": [
       "                                    columns  importance\n",
       "38  property_type_Private room in townhouse    0.276067\n",
       "24               property_type_Entire villa    0.142162\n",
       "3                               accomodates    0.075672\n",
       "11                                bathrooms    0.068826\n",
       "5                                      beds    0.065905"
      ]
     },
     "execution_count": 23,
     "metadata": {},
     "output_type": "execute_result"
    }
   ],
   "source": [
    "importance_df.sort_values(by='importance',ascending=False).head()"
   ]
  },
  {
   "cell_type": "code",
   "execution_count": null,
   "id": "6f0e9296-252b-4c16-8d12-9a9933b251fa",
   "metadata": {},
   "outputs": [],
   "source": []
  }
 ],
 "metadata": {
  "kernelspec": {
   "display_name": "Python 3",
   "language": "python",
   "name": "python3"
  },
  "language_info": {
   "codemirror_mode": {
    "name": "ipython",
    "version": 3
   },
   "file_extension": ".py",
   "mimetype": "text/x-python",
   "name": "python",
   "nbconvert_exporter": "python",
   "pygments_lexer": "ipython3",
   "version": "3.8.8"
  }
 },
 "nbformat": 4,
 "nbformat_minor": 5
}
